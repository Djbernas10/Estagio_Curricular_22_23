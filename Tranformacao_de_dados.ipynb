{
 "cells": [
  {
   "cell_type": "markdown",
   "metadata": {
    "toc": true
   },
   "source": [
    "<h1>Table of Contents<span class=\"tocSkip\"></span></h1>\n",
    "<div class=\"toc\"><ul class=\"toc-item\"><li><span><a href=\"#-Instalação-das-bibliotecas-\" data-toc-modified-id=\"-Instalação-das-bibliotecas--1\"><span class=\"toc-item-num\">1&nbsp;&nbsp;</span> Instalação das bibliotecas </a></span></li><li><span><a href=\"#-Leitura-do-Excel-\" data-toc-modified-id=\"-Leitura-do-Excel--2\"><span class=\"toc-item-num\">2&nbsp;&nbsp;</span> Leitura do Excel </a></span></li><li><span><a href=\"#-Remoção-dos-NIFs-Inválidos-Adjudicatárias\" data-toc-modified-id=\"-Remoção-dos-NIFs-Inválidos-Adjudicatárias-3\"><span class=\"toc-item-num\">3&nbsp;&nbsp;</span> Remoção dos NIFs Inválidos Adjudicatárias</a></span></li><li><span><a href=\"#-Remoção-dos-NIFs-Inválidos-Adjudicantes\" data-toc-modified-id=\"-Remoção-dos-NIFs-Inválidos-Adjudicantes-4\"><span class=\"toc-item-num\">4&nbsp;&nbsp;</span> Remoção dos NIFs Inválidos Adjudicantes</a></span><ul class=\"toc-item\"><li><ul class=\"toc-item\"><li><span><a href=\"#-Conversão-para-Excel-\" data-toc-modified-id=\"-Conversão-para-Excel--4.0.1\"><span class=\"toc-item-num\">4.0.1&nbsp;&nbsp;</span> Conversão para Excel </a></span></li></ul></li></ul></li><li><span><a href=\"#-Check-para-correção-de-Nomes-\" data-toc-modified-id=\"-Check-para-correção-de-Nomes--5\"><span class=\"toc-item-num\">5&nbsp;&nbsp;</span> Check para correção de Nomes </a></span><ul class=\"toc-item\"><li><span><a href=\"#-Criação-dos-dicionarios-\" data-toc-modified-id=\"-Criação-dos-dicionarios--5.1\"><span class=\"toc-item-num\">5.1&nbsp;&nbsp;</span> Criação dos dicionarios </a></span></li><li><span><a href=\"#-Fill-dos-dicionarios-\" data-toc-modified-id=\"-Fill-dos-dicionarios--5.2\"><span class=\"toc-item-num\">5.2&nbsp;&nbsp;</span> Fill dos dicionarios </a></span></li><li><span><a href=\"#-Substituir-as-Identidades-com-diversos-nomes-(Adjudicantes)-\" data-toc-modified-id=\"-Substituir-as-Identidades-com-diversos-nomes-(Adjudicantes)--5.3\"><span class=\"toc-item-num\">5.3&nbsp;&nbsp;</span> Substituir as Identidades com diversos nomes (Adjudicantes) </a></span></li><li><span><a href=\"#-Encontrar-as-Identidades-com-diversos-nomes-(Adjudicatárias)-\" data-toc-modified-id=\"-Encontrar-as-Identidades-com-diversos-nomes-(Adjudicatárias)--5.4\"><span class=\"toc-item-num\">5.4&nbsp;&nbsp;</span> Encontrar as Identidades com diversos nomes (Adjudicatárias) </a></span><ul class=\"toc-item\"><li><span><a href=\"#-Conversão-do-dataframe-em-EXCEL-\" data-toc-modified-id=\"-Conversão-do-dataframe-em-EXCEL--5.4.1\"><span class=\"toc-item-num\">5.4.1&nbsp;&nbsp;</span> Conversão do dataframe em EXCEL </a></span></li></ul></li></ul></li><li><span><a href=\"#-Duplicação-das-rows-com-multiplos-CPVs-\" data-toc-modified-id=\"-Duplicação-das-rows-com-multiplos-CPVs--6\"><span class=\"toc-item-num\">6&nbsp;&nbsp;</span> Duplicação das rows com multiplos CPVs </a></span><ul class=\"toc-item\"><li><ul class=\"toc-item\"><li><span><a href=\"#-Drop-das-Linhas-extras-inuteis-\" data-toc-modified-id=\"-Drop-das-Linhas-extras-inuteis--6.0.1\"><span class=\"toc-item-num\">6.0.1&nbsp;&nbsp;</span> Drop das Linhas extras inuteis </a></span></li><li><span><a href=\"#-Conversão-do-dataframe-em-EXCEL-\" data-toc-modified-id=\"-Conversão-do-dataframe-em-EXCEL--6.0.2\"><span class=\"toc-item-num\">6.0.2&nbsp;&nbsp;</span> Conversão do dataframe em EXCEL </a></span></li></ul></li></ul></li><li><span><a href=\"#-Associação-da-descrição-dos-Cpvs-\" data-toc-modified-id=\"-Associação-da-descrição-dos-Cpvs--7\"><span class=\"toc-item-num\">7&nbsp;&nbsp;</span> Associação da descrição dos Cpvs </a></span><ul class=\"toc-item\"><li><span><a href=\"#Criação-do-dicionario-associativo-\" data-toc-modified-id=\"Criação-do-dicionario-associativo--7.1\"><span class=\"toc-item-num\">7.1&nbsp;&nbsp;</span>Criação do dicionario associativo </a></span></li><li><span><a href=\"#-Criação-das-correspondencias\" data-toc-modified-id=\"-Criação-das-correspondencias-7.2\"><span class=\"toc-item-num\">7.2&nbsp;&nbsp;</span> Criação das correspondencias</a></span></li><li><span><a href=\"#Substituição-dos-cpvs-\" data-toc-modified-id=\"Substituição-dos-cpvs--7.3\"><span class=\"toc-item-num\">7.3&nbsp;&nbsp;</span>Substituição dos cpvs </a></span></li></ul></li><li><span><a href=\"#Localidades-basedas-com-NIF\" data-toc-modified-id=\"Localidades-basedas-com-NIF-8\"><span class=\"toc-item-num\">8&nbsp;&nbsp;</span>Localidades basedas com NIF</a></span><ul class=\"toc-item\"><li><ul class=\"toc-item\"><li><span><a href=\"#-Atraves-de-API-(limite-de-usos)\" data-toc-modified-id=\"-Atraves-de-API-(limite-de-usos)-8.0.1\"><span class=\"toc-item-num\">8.0.1&nbsp;&nbsp;</span> Atraves de API (limite de usos)</a></span></li></ul></li><li><span><a href=\"#-Com-web-scraping-\" data-toc-modified-id=\"-Com-web-scraping--8.1\"><span class=\"toc-item-num\">8.1&nbsp;&nbsp;</span> Com web scraping </a></span><ul class=\"toc-item\"><li><ul class=\"toc-item\"><li><span><a href=\"#-Racius-\" data-toc-modified-id=\"-Racius--8.1.0.1\"><span class=\"toc-item-num\">8.1.0.1&nbsp;&nbsp;</span> Racius </a></span></li><li><span><a href=\"#-Nif-PT-para-codigo-postal-\" data-toc-modified-id=\"-Nif-PT-para-codigo-postal--8.1.0.2\"><span class=\"toc-item-num\">8.1.0.2&nbsp;&nbsp;</span> Nif PT para codigo postal </a></span></li></ul></li></ul></li></ul></li></ul></div>"
   ]
  },
  {
   "cell_type": "markdown",
   "metadata": {},
   "source": [
    "<h1> Instalação das bibliotecas </h1>"
   ]
  },
  {
   "cell_type": "code",
   "execution_count": null,
   "metadata": {},
   "outputs": [],
   "source": [
    "%pip install pandas\n",
    "%pip install openpyxl\n",
    "%pip install bs4\n",
    "%pip install xml\n",
    "%pip install requests\n",
    "%pip install selenium"
   ]
  },
  {
   "cell_type": "markdown",
   "metadata": {},
   "source": [
    "<h1> Leitura do Excel </h1>"
   ]
  },
  {
   "cell_type": "code",
   "execution_count": null,
   "metadata": {},
   "outputs": [],
   "source": [
    "import pandas as pd\n",
    "df = pd.read_excel(\"C:/Users/bernardo.gomes/Projetos/base_Gov/New/Weekly.xlsx\")\n",
    "df"
   ]
  },
  {
   "cell_type": "markdown",
   "metadata": {},
   "source": [
    "<h1> Remoção dos NIFs Inválidos Adjudicatárias</h1>"
   ]
  },
  {
   "cell_type": "markdown",
   "metadata": {},
   "source": [
    "É utilizado em declarações de impostos (IRS e IRC) para identificar inequivocamente uma entidade, sendo constituído por 9 dígitos. No caso de uma pessoa singular, o primeiro dígito pode ser 1, 2 ou 3. Utilize o NIF.PT para validar se um NIF está correcto e obter mais informações sobre a entidade. O NIPC Número de Identificação de Pessoa Colectiva é o termo mais correcto para nos referirmos ao NIF de uma empresa. O primeiro dígito pode ser 5 (pessoa colectiva), 6 (pessoa colectiva pública), 8 (empresário em nome individual), 9 (pessoa colectiva irregular ou número provisório)."
   ]
  },
  {
   "cell_type": "code",
   "execution_count": null,
   "metadata": {},
   "outputs": [],
   "source": [
    "data = df # backup"
   ]
  },
  {
   "cell_type": "code",
   "execution_count": null,
   "metadata": {},
   "outputs": [],
   "source": [
    "i = 0\n",
    "for nif  in data[\"NIF Entidade(s) Adjudicatária(s)\"]:\n",
    "    if (len(str(nif)) == 9): #Real size of NIF in Portugal\n",
    "      try: # can convert means is only numbers\n",
    "            if(nif[0] == \"0\" or nif[0] ==\"9\"): # starting number is invalid\n",
    "                 data[\"NIF Entidade(s) Adjudicatária(s)\"][i] = \"\"\n",
    "                 data[\"Entidade(s) Adjudicatária(s) - CORRIGIDA\"][i] = data[\"Entidade(s) Adjudicatária(s)\"][i]\n",
    "                 pass\n",
    "            int(nif) # try converting\n",
    "            #print(nif)\n",
    "      except: # cant convert means has letters\n",
    "            #print(nif)\n",
    "            data[\"NIF Entidade(s) Adjudicatária(s)\"][i] = \"\"\n",
    "            data[\"Entidade(s) Adjudicatária(s) - CORRIGIDA\"][i] = data[\"Entidade(s) Adjudicatária(s)\"][i]\n",
    "            pass \n",
    "    else:\n",
    "        #print(nif)\n",
    "        #print(len(Nif[i]))\n",
    "        data[\"NIF Entidade(s) Adjudicatária(s)\"][i] = \"\"\n",
    "        data[\"Entidade(s) Adjudicatária(s) - CORRIGIDA\"][i] = data[\"Entidade(s) Adjudicatária(s)\"][i]\n",
    "    i = i+1"
   ]
  },
  {
   "cell_type": "markdown",
   "metadata": {},
   "source": [
    "<h1> Remoção dos NIFs Inválidos Adjudicantes</h1>"
   ]
  },
  {
   "cell_type": "code",
   "execution_count": null,
   "metadata": {},
   "outputs": [],
   "source": [
    "i=0\n",
    "for nif in data[\"NIF Entidade(s) Adjudicante(s)\"]:\n",
    "    if len(str(nif)) != 9: # NIF is not of the correct length\n",
    "        data[\"NIF Entidade(s) Adjudicante(s)\"][i] = \"\"\n",
    "        data[\"Entidade(s) Adjudicante(s) - CORRIGIDA\"][i] = data[\"Entidade(s) Adjudicante(s)\"][i]\n",
    "    else:\n",
    "        try:\n",
    "            nif_str = str(nif)\n",
    "            if nif_str[0] == '0' or nif_str[0] == '9': # Starting number is invalid or out of range\n",
    "                data[\"NIF Entidade(s) Adjudicante(s)\"][i] = \"\"\n",
    "                data[\"Entidade(s) Adjudicante(s) - CORRIGIDA\"][i] = data[\"Entidade(s) Adjudicante(s)\"][i]\n",
    "        except ValueError: # NIF contains non-numeric characters\n",
    "            data[\"NIF Entidade(s) Adjudicante(s)\"][i] = \"\"\n",
    "            data[\"Entidade(s) Adjudicante(s) - CORRIGIDA\"][i] = data[\"Entidade(s) Adjudicante(s)\"][i]\n",
    "    i+=1"
   ]
  },
  {
   "cell_type": "code",
   "execution_count": null,
   "metadata": {},
   "outputs": [],
   "source": [
    "i = 0\n",
    "for nif_adju in data[\"NIF Entidade(s) Adjudicante(s)\"]:\n",
    "    #print(len(nif))\n",
    "    if (len(str(nif_adju)) == 9): #Real size of NIF in Portugal\n",
    "      try: # can convert means is only numbers\n",
    "          if(nif_adju[0] == 0 or nif_adju[0] ==9): # starting number is invalid\n",
    "            data[\"NIF Entidade(s) Adjudicante(s))\"][i] = \"\"\n",
    "            data[\"Entidade(s) Adjudicante(s) - CORRIGIDA\"][i] = data[\"Entidade(s) Adjudicante(s)\"][i]\n",
    "            pass\n",
    "          if(nif_adju.isdigit()):\n",
    "             pass\n",
    "      except: # cant convert means has letters\n",
    "        print(\"except\")\n",
    "        #print(nif)\n",
    "        data[\"NIF Entidade(s) Adjudicante(s)\"][i] = \"\"\n",
    "        data[\"Entidade(s) Adjudicante(s) - CORRIGIDA\"][i] = data[\"Entidade(s) Adjudicante(s)\"][i]\n",
    "        pass \n",
    "    else:\n",
    "        print(\"else\")\n",
    "        #print(nif)\n",
    "        #print(len(nif[i]))\n",
    "        data[\"NIF Entidade(s) Adjudicante(s)\"][i] = \"\"\n",
    "        data[\"Entidade(s) Adjudicante(s) - CORRIGIDA\"][i] = data[\"Entidade(s) Adjudicante(s)\"][i]\n",
    "    i = i+1"
   ]
  },
  {
   "cell_type": "markdown",
   "metadata": {},
   "source": [
    "<h3> Conversão para Excel </h3>"
   ]
  },
  {
   "cell_type": "code",
   "execution_count": null,
   "metadata": {},
   "outputs": [],
   "source": [
    "data.to_excel(r'C:\\Users\\bernardo.gomes\\Projetos\\base_Gov\\New\\NIFs_removed.xlsx', index=False)"
   ]
  },
  {
   "cell_type": "markdown",
   "metadata": {},
   "source": [
    " <h1> Check para correção de Nomes </h1>"
   ]
  },
  {
   "cell_type": "code",
   "execution_count": null,
   "metadata": {},
   "outputs": [],
   "source": [
    "naming = data #backup"
   ]
  },
  {
   "cell_type": "markdown",
   "metadata": {},
   "source": [
    "<h2> Criação dos dicionarios </h2>"
   ]
  },
  {
   "cell_type": "code",
   "execution_count": null,
   "metadata": {},
   "outputs": [],
   "source": [
    "dictOfNifsAdjudicante = {}\n",
    "dictOfNifsAdjudicataria = {}\n",
    "#fill the dict with numbers of nifs of Adjudicantes\n",
    "for nif in naming[\"NIF Entidade(s) Adjudicante(s)\"]:\n",
    "    dictOfNifsAdjudicante[nif] = []\n",
    "#fill the dict with numbers of nifs of Adjudicatarias\n",
    "for nif in naming[\"NIF Entidade(s) Adjudicatária(s)\"]:\n",
    "    dictOfNifsAdjudicataria[nif] = []"
   ]
  },
  {
   "cell_type": "markdown",
   "metadata": {},
   "source": [
    "<h2> Fill dos dicionarios </h2>"
   ]
  },
  {
   "cell_type": "code",
   "execution_count": null,
   "metadata": {},
   "outputs": [],
   "source": [
    "#fill dict with names for each NIF\n",
    "for i in range(len(naming)):\n",
    "  dictOfNifsAdjudicante[naming[\"NIF Entidade(s) Adjudicante(s)\"][i]].append(naming[\"Entidade(s) Adjudicante(s) - CORRIGIDA\"][i])\n",
    "  dictOfNifsAdjudicataria[naming[\"NIF Entidade(s) Adjudicatária(s)\"][i]].append(naming[\"Entidade(s) Adjudicatária(s) - CORRIGIDA\"][i])\n",
    "\n",
    "    "
   ]
  },
  {
   "cell_type": "markdown",
   "metadata": {},
   "source": [
    "<h2> Substituir as Identidades com diversos nomes (Adjudicantes) </h2>"
   ]
  },
  {
   "cell_type": "code",
   "execution_count": null,
   "metadata": {},
   "outputs": [],
   "source": [
    "i = 0\n",
    "for nif in naming[\"NIF Entidade(s) Adjudicante(s)\"]:\n",
    "    if nif == '':\n",
    "        pass\n",
    "    else:\n",
    "        naming[\"Entidade(s) Adjudicante(s) - CORRIGIDA\"][i] = dictOfNifsAdjudicante[nif][0] \n",
    "    i = i+1"
   ]
  },
  {
   "cell_type": "markdown",
   "metadata": {},
   "source": [
    "<h2> Encontrar as Identidades com diversos nomes (Adjudicatárias) </h2>"
   ]
  },
  {
   "cell_type": "code",
   "execution_count": null,
   "metadata": {},
   "outputs": [],
   "source": [
    "i=0\n",
    "for nif in naming[\"NIF Entidade(s) Adjudicatária(s)\"]:\n",
    "    if nif == '':\n",
    "       pass\n",
    "    else:\n",
    "        naming[\"Entidade(s) Adjudicatária(s) - CORRIGIDA\"][i] = dictOfNifsAdjudicataria[nif][0] \n",
    "    i = i+1"
   ]
  },
  {
   "cell_type": "code",
   "execution_count": null,
   "metadata": {},
   "outputs": [],
   "source": [
    "naming"
   ]
  },
  {
   "cell_type": "markdown",
   "metadata": {},
   "source": [
    "<h3> Conversão do dataframe em EXCEL </h3>"
   ]
  },
  {
   "cell_type": "code",
   "execution_count": null,
   "metadata": {},
   "outputs": [],
   "source": [
    "naming.to_excel(r'C:\\Users\\bernardo.gomes\\Projetos\\base_Gov\\New\\names_normalized.xlsx', index=False)"
   ]
  },
  {
   "cell_type": "markdown",
   "metadata": {},
   "source": [
    "<h1> Duplicação das rows com multiplos CPVs </h1>"
   ]
  },
  {
   "cell_type": "code",
   "execution_count": null,
   "metadata": {},
   "outputs": [],
   "source": [
    "import pandas as pd\n",
    "naming = pd.read_excel(\"C:/Users/bernardo.gomes/Projetos/base_Gov/Normalized/Normalized_First.xlsx\")"
   ]
  },
  {
   "cell_type": "code",
   "execution_count": null,
   "metadata": {},
   "outputs": [],
   "source": [
    "Cpvs = naming # backup"
   ]
  },
  {
   "cell_type": "markdown",
   "metadata": {},
   "source": [
    "O CPV contém um vocabulário principal para a definição do objecto de um contrato e um vocabulário suplementar para se acrescentar qualquer informação qualitativa. O vocabulário principal assenta numa estrutura de códigos em árvore de até 9 algarismos (um código de 8 algarismos e um algarismo de controlo) associados a uma designação que descreve o tipo de fornecimentos, obras ou serviços objecto do contrato. "
   ]
  },
  {
   "cell_type": "code",
   "execution_count": null,
   "metadata": {},
   "outputs": [],
   "source": [
    "rowsToMultiply = {}\n",
    "i = 0\n",
    "for cpv in Cpvs[\"CPV\"]:\n",
    "  if len(cpv) != 10 :\n",
    "    rowsToMultiply[i] = []\n",
    "  i+=1\n",
    "for row in rowsToMultiply:\n",
    "    rowsToMultiply[row].append(Cpvs.iloc[row][3].split(\" | \",-1)) # cpvs\n",
    "    removedSpaces = Cpvs.iloc[row][4].replace(\" \",\"\")\n",
    "    removedSpecial = removedSpaces.replace(\"€\",\"\")\n",
    "    rowsToMultiply[row].append(removedSpecial.split(\"|\",-1)) # money per cpv"
   ]
  },
  {
   "cell_type": "code",
   "execution_count": null,
   "metadata": {},
   "outputs": [],
   "source": [
    "for row in rowsToMultiply:# select row\n",
    "    tempRow = Cpvs.iloc[row]\n",
    "    #print(tempRow[9])\n",
    "    #print(tempRow[7])\n",
    "    RowToAdd = {\"Objeto do Contrato\":tempRow[0],\"Tipo de Procedimento\":tempRow[1],\"Tipo(s) de Contrato\":tempRow[2],\"CPV\":tempRow[3],\"CPV Valor\":tempRow[4],\n",
    "            \"Entidade(s) Adjudicante(s)\":tempRow[5],\"NIF Entidade(s) Adjudicante(s)\":tempRow[6],\"Entidade(s) Adjudicante(s) - CORRIGIDA\":tempRow[7],\"Entidade(s) Adjudicatária(s)\":tempRow[8],\n",
    "            \"NIF Entidade(s) Adjudicatária(s)\":tempRow[9],\"Entidade(s) Adjudicatária(s) - CORRIGIDA\":tempRow[10],\"Data de Publicação\":tempRow[11],\n",
    "            \"Data de Celebração do Contrato\":tempRow[12],\"Prazo de Execução\":tempRow[13],\"N.º registo do Acordo Quadro\":tempRow[14],\"Descrição do Acordo Quadro\":tempRow[15]}\n",
    "    \n",
    "    for i in range(len(rowsToMultiply[row][0])): # select cpv\n",
    "        RowToAdd[\"CPV\"] = rowsToMultiply[row][0][i] # switch cpv\n",
    "       # print(rowsToMultiply[row][0][i])\n",
    "        #print(rowsToMultiply[row][1][i])\n",
    "        RowToAdd[\"CPV Valor\"] = rowsToMultiply[row][1][i] # switch value\n",
    "        #print(rowsToMultiply[row][1][i])\n",
    "        #print(RowToAdd)\n",
    "        Cpvs = pd.concat([Cpvs,pd.DataFrame([RowToAdd])])# add row to the end of data frame\n",
    "    #print(Cpvs.tail(5))"
   ]
  },
  {
   "cell_type": "markdown",
   "metadata": {},
   "source": [
    "<h3> Drop das Linhas extras inuteis </h3>"
   ]
  },
  {
   "cell_type": "code",
   "execution_count": null,
   "metadata": {},
   "outputs": [],
   "source": [
    "for row in rowsToMultiply:\n",
    "   Cpvs = Cpvs.drop(row)"
   ]
  },
  {
   "cell_type": "code",
   "execution_count": null,
   "metadata": {},
   "outputs": [],
   "source": [
    "Cpvs.to_excel(r'C:\\Users\\bernardo.gomes\\Projetos\\base_Gov\\New\\cpvs_Multiply.xlsx', index=False)"
   ]
  },
  {
   "cell_type": "markdown",
   "metadata": {},
   "source": [
    "Nao correr\n"
   ]
  },
  {
   "cell_type": "code",
   "execution_count": null,
   "metadata": {
    "scrolled": true
   },
   "outputs": [],
   "source": [
    "i = 0\n",
    "for valor in Cpvs[\"CPV Valor\"]:\n",
    "    removedSpecial = valor.replace(\"€\",\"\")\n",
    "    Cpvs[\"CPV Valor\"][i] = removedSpecial\n",
    "    i+=1"
   ]
  },
  {
   "cell_type": "markdown",
   "metadata": {},
   "source": [
    "<h3> Conversão do dataframe em EXCEL </h3>"
   ]
  },
  {
   "cell_type": "code",
   "execution_count": null,
   "metadata": {},
   "outputs": [],
   "source": [
    "refactor.to_excel(r'C:\\Users\\bernardo.gomes\\Projetos\\base_Gov\\New\\refactored.xlsx', index=False)"
   ]
  },
  {
   "cell_type": "markdown",
   "metadata": {},
   "source": [
    "<h1> Associação da descrição dos Cpvs </h1>"
   ]
  },
  {
   "cell_type": "code",
   "execution_count": null,
   "metadata": {},
   "outputs": [],
   "source": [
    "import pandas as pd\n",
    "descricao = pd.read_excel(\"C:/Users/bernardo.gomes/Projetos/base_Gov/New/Contratos2018_2023.xlsx\")"
   ]
  },
  {
   "cell_type": "markdown",
   "metadata": {},
   "source": [
    "<h2>Criação do dicionario associativo </h2>"
   ]
  },
  {
   "cell_type": "code",
   "execution_count": null,
   "metadata": {},
   "outputs": [],
   "source": [
    "desc = {}\n",
    "for Cpv in descricao[\"CPV\"]:\n",
    "  if Cpv not in desc:\n",
    "    desc[Cpv] = \"\"\n",
    "desc"
   ]
  },
  {
   "cell_type": "markdown",
   "metadata": {},
   "source": [
    "<h2> Criação das correspondencias</h2>"
   ]
  },
  {
   "cell_type": "code",
   "execution_count": null,
   "metadata": {},
   "outputs": [],
   "source": [
    "from bs4 import BeautifulSoup\n",
    "import requests\n",
    "for cpv in desc.keys():\n",
    "\n",
    "  url = \"https://www.govis.pt/codigos/cpv/\" + cpv\n",
    "  page = requests.get(url)\n",
    "  soup = BeautifulSoup(page.content, 'html.parser')\n",
    "  desc[cpv] = cpv +\" \"+ soup.find('p').get_text()\n"
   ]
  },
  {
   "cell_type": "code",
   "execution_count": null,
   "metadata": {},
   "outputs": [],
   "source": [
    "desc"
   ]
  },
  {
   "cell_type": "markdown",
   "metadata": {},
   "source": [
    "<h2>Substituição dos cpvs </h2>"
   ]
  },
  {
   "cell_type": "code",
   "execution_count": null,
   "metadata": {},
   "outputs": [],
   "source": [
    "i = 0\n",
    "for cpv in descricao[\"CPV\"]:\n",
    "    if cpv in desc:\n",
    "        #cpv = desc[cpv]\n",
    "        descricao[\"CPV\"][i] = desc[cpv]\n",
    "    i = i+1"
   ]
  },
  {
   "cell_type": "code",
   "execution_count": null,
   "metadata": {},
   "outputs": [],
   "source": [
    "descricao"
   ]
  },
  {
   "cell_type": "code",
   "execution_count": null,
   "metadata": {},
   "outputs": [],
   "source": [
    "descricao.to_excel(r'C:\\Users\\bernardo.gomes\\Projetos\\base_Gov\\New\\cpv_description.xlsx', index=False)"
   ]
  },
  {
   "cell_type": "markdown",
   "metadata": {},
   "source": [
    "<h1>Localidades basedas com NIF</h1>"
   ]
  },
  {
   "cell_type": "code",
   "execution_count": null,
   "metadata": {},
   "outputs": [],
   "source": [
    "import pandas as pd\n",
    "import openpyxl\n",
    "data = pd.read_excel(\"C:/Users/bernardo.gomes/Projetos/base_Gov/deliverable/Contratos2018_2023Atualizado.xlsx\")"
   ]
  },
  {
   "cell_type": "code",
   "execution_count": null,
   "metadata": {},
   "outputs": [],
   "source": [
    "dictOfNifsAdjudicante = {}\n",
    "dictOfNifsAdjudicataria = {}\n",
    "\n",
    "i=0\n",
    "#fill the dict with numbers of nifs of Adjudicantes\n",
    "for Invalid in data[\"NIF Entidade(s) Adjudicante(s)\"].isnull():\n",
    "    if Invalid == True:\n",
    "        pass\n",
    "    else:\n",
    "        dictOfNifsAdjudicante[int(data[\"NIF Entidade(s) Adjudicante(s)\"][i])] = []\n",
    "    i+=1\n",
    "#fill the dict with numbers of nifs of Adjudicatarias\n",
    "i=0\n",
    "for Invalid in data[\"NIF Entidade(s) Adjudicatária(s)\"].isnull():\n",
    "    if Invalid == True:\n",
    "        pass\n",
    "    else:\n",
    "        dictOfNifsAdjudicataria[int(data[\"NIF Entidade(s) Adjudicatária(s)\"][i])] = []\n",
    "    i+=1"
   ]
  },
  {
   "cell_type": "code",
   "execution_count": null,
   "metadata": {},
   "outputs": [],
   "source": [
    "%pip install selenium\n",
    "%pip install webdriver_manager"
   ]
  },
  {
   "cell_type": "code",
   "execution_count": null,
   "metadata": {},
   "outputs": [],
   "source": [
    "from selenium import webdriver\n",
    "from webdriver_manager.chrome import ChromeDriverManager\n",
    "browser = webdriver.Chrome(ChromeDriverManager().install())"
   ]
  },
  {
   "cell_type": "markdown",
   "metadata": {},
   "source": [
    "<h3> Atraves de API (limite de usos)</h3>"
   ]
  },
  {
   "cell_type": "code",
   "execution_count": null,
   "metadata": {},
   "outputs": [],
   "source": [
    "import requests\n",
    "url_api = \"https://www.nif.pt/?json=1\"\n",
    "nif = \"513712992\"\n",
    "payload = {'q': nif, 'key': \"576bb7f4d3aece6132ebdd7b32161b48\" }\n",
    "r = requests.get(url_api, params=payload)\n",
    "content = r.json()\n",
    "content"
   ]
  },
  {
   "cell_type": "markdown",
   "metadata": {},
   "source": [
    "<h2> Com web scraping </h2>"
   ]
  },
  {
   "cell_type": "markdown",
   "metadata": {},
   "source": [
    "<h4> Racius </h4>"
   ]
  },
  {
   "cell_type": "code",
   "execution_count": null,
   "metadata": {},
   "outputs": [],
   "source": [
    "from selenium import webdriver\n",
    "from selenium.webdriver.common.keys import Keys\n",
    "from selenium.webdriver.common.by import By\n",
    "from selenium.webdriver.support.ui import WebDriverWait\n",
    "from selenium.webdriver.support import expected_conditions as EC\n",
    "from selenium.webdriver.chrome.options import Options\n",
    "from webdriver_manager.chrome import ChromeDriverManager\n",
    "from selenium.webdriver.common.action_chains import ActionChains\n",
    "import time\n",
    "\n",
    "import requests\n",
    "from bs4 import BeautifulSoup\n",
    "\n",
    "\n",
    "nif = \"513712992\"\n",
    "#accessing Chromedriver\n",
    "option = Options()\n",
    "option.add_argument(\"--disable-infobars\")\n",
    "option.add_argument(\"start-maximized\")\n",
    "option.add_argument(\"--disable-extensions\")\n",
    "\n",
    "# Pass the argument 1 to allow and 2 to block\n",
    "option.add_experimental_option(\"prefs\", {\n",
    "     \"profile.default_content_setting_values.notifications\": 1\n",
    "})\n",
    "\n",
    "  # chromedriver should be in the same folder as file\n",
    "browser = webdriver.Chrome(ChromeDriverManager().install(), chrome_options=option)\n",
    "\n",
    "for nif in dictOfNifsAdjudicante.keys():\n",
    "  #navigation\n",
    "  browser.implicitly_wait(5)\n",
    "  browser.get(\"https://www.racius.com\")          \n",
    "  input = browser.find_element(By.XPATH,'/html[1]/body[1]/section[1]/div[1]/div[1]/main[1]/div[1]/div[1]/form[1]/div[1]/input[1]')\n",
    "  input.send_keys(nif)\n",
    "  search = browser.find_element(By.XPATH,'/html[1]/body[1]/section[1]/div[1]/div[1]/main[1]/div[1]/div[1]/form[1]/button[1]')\n",
    "  search.click()\n",
    "  #scrapping\n",
    "  time.sleep(3)\n",
    "  html= browser.page_source\n",
    "  soup=BeautifulSoup(html,\"html.parser\")\n",
    "  localization_tag = soup.find('div',{'class': 'results__col-location d--none d-lg--inline'})\n",
    "  tag_strip = list(localization_tag.stripped_strings)\n",
    "  dictOfNifsAdjudicante[nif].append(tag_strip[1])\n"
   ]
  },
  {
   "cell_type": "markdown",
   "metadata": {},
   "source": [
    "/html[1]/body[1]/section[1]/div[1]/div[1]/main[1]/div[1]/div[1]/form[1]/div[1]/input[1] input\n",
    "\n",
    "/html[1]/body[1]/section[1]/div[1]/div[1]/main[1]/div[1]/div[1]/form[1]/button[1] botao"
   ]
  },
  {
   "cell_type": "markdown",
   "metadata": {},
   "source": [
    "<h4> Nif PT para codigo postal </h4>"
   ]
  },
  {
   "cell_type": "code",
   "execution_count": null,
   "metadata": {},
   "outputs": [],
   "source": [
    "from selenium import webdriver\n",
    "from selenium.webdriver.common.keys import Keys\n",
    "from selenium.webdriver.common.by import By\n",
    "from selenium.webdriver.support.ui import WebDriverWait\n",
    "from selenium.webdriver.support import expected_conditions as EC\n",
    "from selenium.webdriver.chrome.options import Options\n",
    "from webdriver_manager.chrome import ChromeDriverManager\n",
    "from selenium.webdriver.common.action_chains import ActionChains\n",
    "import time\n",
    "\n",
    "import requests\n",
    "from bs4 import BeautifulSoup\n",
    "\n",
    "\n",
    "nif = \"513712992\"\n",
    "#accessing Chromedriver\n",
    "option = Options()\n",
    "option.add_argument(\"--disable-infobars\")\n",
    "option.add_argument(\"start-maximized\")\n",
    "option.add_argument(\"--disable-extensions\")\n",
    "\n",
    "# Pass the argument 1 to allow and 2 to block\n",
    "option.add_experimental_option(\"prefs\", {\n",
    "     \"profile.default_content_setting_values.notifications\": 1\n",
    "})\n",
    "\n",
    "  # chromedriver should be in the same folder as file\n",
    "browser = webdriver.Chrome(ChromeDriverManager().install(), chrome_options=option)\n",
    "\n",
    "for nif in dictOfNifsAdjudicante.keys():\n",
    "  #navigation\n",
    "  browser.implicitly_wait(5)\n",
    "  browser.get(\"https://www.nif.pt\")          \n",
    "  input = browser.find_element(By.XPATH,'/html[1]/body[1]/div[2]/div[1]/div[1]/form[1]/div[1]/input[1]')\n",
    "  input.send_keys(nif)\n",
    "  search = browser.find_element(By.XPATH,'/html[1]/body[1]/div[2]/div[1]/div[1]/form[1]/div[1]/button[1]')\n",
    "  search.click()\n",
    "  #scrapping\n",
    "  time.sleep(3)\n",
    "  try:\n",
    "    html= browser.page_source\n",
    "    soup=BeautifulSoup(html,\"html.parser\")\n",
    "    localization_tag = soup.find('div',{'class': 'detail'})\n",
    "    tag_strip = list(localization_tag.stripped_strings)\n",
    "    dictOfNifsAdjudicante[nif].append(tag_strip[3])\n",
    "  except:\n",
    "    pass"
   ]
  },
  {
   "cell_type": "markdown",
   "metadata": {},
   "source": [
    "/html[1]/body[1]/div[2]/div[1]/div[1]/form[1]/div[1]/input[1]\n",
    "/html[1]/body[1]/div[2]/div[1]/div[1]/form[1]/div[1]/button[1]"
   ]
  }
 ],
 "metadata": {
  "kernelspec": {
   "display_name": "Python 3",
   "language": "python",
   "name": "python3"
  },
  "language_info": {
   "codemirror_mode": {
    "name": "ipython",
    "version": 3
   },
   "file_extension": ".py",
   "mimetype": "text/x-python",
   "name": "python",
   "nbconvert_exporter": "python",
   "pygments_lexer": "ipython3",
   "version": "3.8.5"
  },
  "toc": {
   "base_numbering": 1,
   "nav_menu": {},
   "number_sections": true,
   "sideBar": true,
   "skip_h1_title": false,
   "title_cell": "Table of Contents",
   "title_sidebar": "Contents",
   "toc_cell": true,
   "toc_position": {},
   "toc_section_display": true,
   "toc_window_display": true
  },
  "vscode": {
   "interpreter": {
    "hash": "10357be4ee0bde80485c996a386d516f1c11f0afda5c85f6259b61e7693c1e14"
   }
  }
 },
 "nbformat": 4,
 "nbformat_minor": 2
}
